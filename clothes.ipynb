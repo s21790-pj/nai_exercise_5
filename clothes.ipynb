{
 "cells": [
  {
   "cell_type": "markdown",
   "metadata": {
    "pycharm": {
     "name": "#%% md\n"
    }
   },
   "source": [
    "# Imports and load data"
   ]
  },
  {
   "cell_type": "code",
   "execution_count": 12,
   "metadata": {
    "pycharm": {
     "name": "#%%\n"
    }
   },
   "outputs": [],
   "source": [
    "import tensorflow as tf\n",
    "\n",
    "fashion_mnist = tf.keras.datasets.fashion_mnist"
   ]
  },
  {
   "cell_type": "markdown",
   "metadata": {
    "pycharm": {
     "name": "#%% md\n"
    }
   },
   "source": [
    "# Normalization and Reshaping"
   ]
  },
  {
   "cell_type": "code",
   "execution_count": 13,
   "metadata": {
    "pycharm": {
     "name": "#%%\n"
    }
   },
   "outputs": [],
   "source": [
    "(train_images, train_labels), (test_images, test_labels) = fashion_mnist.load_data()\n",
    "train_images = train_images / 255.0\n",
    "test_images = test_images / 255.0"
   ]
  },
  {
   "cell_type": "markdown",
   "metadata": {
    "pycharm": {
     "name": "#%% md\n"
    }
   },
   "source": [
    "# Define the model"
   ]
  },
  {
   "cell_type": "code",
   "execution_count": 14,
   "metadata": {
    "pycharm": {
     "name": "#%%\n"
    }
   },
   "outputs": [],
   "source": [
    "model = tf.keras.Sequential([\n",
    "    tf.keras.layers.Flatten(input_shape=(28, 28)),\n",
    "    tf.keras.layers.Dense(128, activation='relu'),\n",
    "    tf.keras.layers.Dense(10)\n",
    "])\n",
    "\n",
    "model.compile(optimizer='adam',\n",
    "              loss=tf.keras.losses.SparseCategoricalCrossentropy(from_logits=True),\n",
    "              metrics=['accuracy'])"
   ]
  },
  {
   "cell_type": "markdown",
   "metadata": {
    "pycharm": {
     "name": "#%% md\n"
    }
   },
   "source": [
    "# Fit with training data"
   ]
  },
  {
   "cell_type": "code",
   "execution_count": 15,
   "metadata": {
    "pycharm": {
     "name": "#%%\n"
    }
   },
   "outputs": [
    {
     "name": "stdout",
     "output_type": "stream",
     "text": [
      "Epoch 1/20\n",
      "1875/1875 [==============================] - 2s 857us/step - loss: 0.4971 - accuracy: 0.8248\n",
      "Epoch 2/20\n",
      "1875/1875 [==============================] - 2s 881us/step - loss: 0.3776 - accuracy: 0.8628\n",
      "Epoch 3/20\n",
      "1875/1875 [==============================] - 2s 869us/step - loss: 0.3374 - accuracy: 0.8784\n",
      "Epoch 4/20\n",
      "1875/1875 [==============================] - 2s 899us/step - loss: 0.3130 - accuracy: 0.8858\n",
      "Epoch 5/20\n",
      "1875/1875 [==============================] - 2s 880us/step - loss: 0.2936 - accuracy: 0.8925\n",
      "Epoch 6/20\n",
      "1875/1875 [==============================] - 2s 894us/step - loss: 0.2803 - accuracy: 0.8960\n",
      "Epoch 7/20\n",
      "1875/1875 [==============================] - 2s 864us/step - loss: 0.2689 - accuracy: 0.8999\n",
      "Epoch 8/20\n",
      "1875/1875 [==============================] - 2s 837us/step - loss: 0.2563 - accuracy: 0.9045\n",
      "Epoch 9/20\n",
      "1875/1875 [==============================] - 2s 941us/step - loss: 0.2461 - accuracy: 0.9078\n",
      "Epoch 10/20\n",
      "1875/1875 [==============================] - 2s 905us/step - loss: 0.2376 - accuracy: 0.9104\n",
      "Epoch 11/20\n",
      "1875/1875 [==============================] - 2s 900us/step - loss: 0.2281 - accuracy: 0.9148\n",
      "Epoch 12/20\n",
      "1875/1875 [==============================] - 2s 859us/step - loss: 0.2215 - accuracy: 0.9171\n",
      "Epoch 13/20\n",
      "1875/1875 [==============================] - 2s 907us/step - loss: 0.2156 - accuracy: 0.9197\n",
      "Epoch 14/20\n",
      "1875/1875 [==============================] - 2s 1ms/step - loss: 0.2087 - accuracy: 0.9223\n",
      "Epoch 15/20\n",
      "1875/1875 [==============================] - 2s 885us/step - loss: 0.2040 - accuracy: 0.9234\n",
      "Epoch 16/20\n",
      "1875/1875 [==============================] - 2s 861us/step - loss: 0.1957 - accuracy: 0.9266\n",
      "Epoch 17/20\n",
      "1875/1875 [==============================] - 2s 834us/step - loss: 0.1920 - accuracy: 0.9276\n",
      "Epoch 18/20\n",
      "1875/1875 [==============================] - 2s 904us/step - loss: 0.1859 - accuracy: 0.9298\n",
      "Epoch 19/20\n",
      "1875/1875 [==============================] - 2s 868us/step - loss: 0.1799 - accuracy: 0.9323\n",
      "Epoch 20/20\n",
      "1875/1875 [==============================] - 2s 954us/step - loss: 0.1769 - accuracy: 0.9344\n"
     ]
    },
    {
     "data": {
      "text/plain": [
       "<keras.callbacks.History at 0x168277c10>"
      ]
     },
     "execution_count": 15,
     "metadata": {},
     "output_type": "execute_result"
    }
   ],
   "source": [
    "model.fit(train_images, train_labels, epochs=20)"
   ]
  },
  {
   "cell_type": "markdown",
   "metadata": {
    "pycharm": {
     "name": "#%% md\n"
    }
   },
   "source": [
    "# Predict results"
   ]
  },
  {
   "cell_type": "code",
   "execution_count": 16,
   "metadata": {
    "pycharm": {
     "name": "#%%\n"
    }
   },
   "outputs": [
    {
     "name": "stdout",
     "output_type": "stream",
     "text": [
      "313/313 - 0s - loss: 0.3490 - accuracy: 0.8908 - 164ms/epoch - 524us/step\n"
     ]
    }
   ],
   "source": [
    "test_loss, test_acc = model.evaluate(test_images, test_labels, verbose=2)"
   ]
  },
  {
   "cell_type": "markdown",
   "metadata": {
    "pycharm": {
     "name": "#%% md\n"
    }
   },
   "source": [
    "# Print results in console"
   ]
  },
  {
   "cell_type": "code",
   "execution_count": 17,
   "metadata": {
    "pycharm": {
     "name": "#%%\n"
    }
   },
   "outputs": [
    {
     "name": "stdout",
     "output_type": "stream",
     "text": [
      "Zalandoresearch/fashion-mnist accuracy: 0.8907999992370605\n"
     ]
    }
   ],
   "source": [
    "print('Zalandoresearch/fashion-mnist accuracy:', test_acc)"
   ]
  },
  {
   "cell_type": "code",
   "execution_count": null,
   "metadata": {},
   "outputs": [],
   "source": []
  }
 ],
 "metadata": {
  "kernelspec": {
   "display_name": "Python 3 (ipykernel)",
   "language": "python",
   "name": "python3"
  },
  "language_info": {
   "codemirror_mode": {
    "name": "ipython",
    "version": 3
   },
   "file_extension": ".py",
   "mimetype": "text/x-python",
   "name": "python",
   "nbconvert_exporter": "python",
   "pygments_lexer": "ipython3",
   "version": "3.10.5"
  }
 },
 "nbformat": 4,
 "nbformat_minor": 1
}
